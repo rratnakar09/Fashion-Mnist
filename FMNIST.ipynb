{
 "cells": [
  {
   "cell_type": "markdown",
   "metadata": {},
   "source": [
    "# __Classify Clothes Using Python and Artificial Neural Networks__\n",
    "\n",
    "Fashion-MNIST is a dataset of Zalando's fashion article images —consisting of a training set of 60,000 examples and a test set of 10,000 examples. Each example is a 28x28 grayscale image, associated with a label.\n",
    "\n",
    "“Fashion MNIST” dataset here is used for experimenting and practicing machine learning. Fashion-MNIST dataset is a collection of articles images provided by Zalando(https://zalando.com/) . Thanks to Zalando Research(https://github.com/zalandoresearch/fashion-mnist) for hosting the dataset. \n",
    "\n",
    "## Description: This program classifies clothes from the Fashion MNIST data set\n",
    "In this notebook I have used fashion_mnist dataset availavle on keras.datasets"
   ]
  },
  {
   "cell_type": "code",
   "execution_count": 1,
   "metadata": {},
   "outputs": [],
   "source": [
    "#Import the libraries\n",
    "import tensorflow as tf\n",
    "from tensorflow import keras\n",
    "import numpy as np\n",
    "import matplotlib.pyplot as plt\n",
    "%matplotlib inline"
   ]
  },
  {
   "cell_type": "markdown",
   "metadata": {},
   "source": [
    "Next, load the data set into the variables train_images (the variable that contains the images to train on) , train_labels (the variable that contains the labels of the images in the training set), test_images (the variable that contains the images to test on), and the test_labels (the variable that contains the labels of the images in the test set)."
   ]
  },
  {
   "cell_type": "code",
   "execution_count": 2,
   "metadata": {},
   "outputs": [],
   "source": [
    "# load the data set\n",
    "fashion_mnist = keras.datasets.fashion_mnist\n",
    "(train_images, train_labels), (test_images, test_labels) = fashion_mnist.load_data()"
   ]
  },
  {
   "cell_type": "code",
   "execution_count": 3,
   "metadata": {},
   "outputs": [
    {
     "name": "stdout",
     "output_type": "stream",
     "text": [
      "(60000, 28, 28)\n",
      "(10000, 28, 28)\n"
     ]
    }
   ],
   "source": [
    "#Print the shape \n",
    "print(train_images.shape)# 60,000 rows of 28 x 28 pixel images\n",
    "print(test_images.shape) # 10,000 rows of 28 x 28 pixel images"
   ]
  },
  {
   "cell_type": "markdown",
   "metadata": {},
   "source": [
    "\n",
    "The class labels for Fashion MNIST are:\n",
    "<br>\n",
    "<br>\n",
    "<b>Label</b> &nbsp;  <b>Description</b>\n",
    "<br>\n",
    "0   &nbsp;&nbsp;&nbsp;&nbsp;&nbsp;&nbsp;&nbsp;   T-shirt/top\n",
    "<br>\n",
    "1   &nbsp;&nbsp;&nbsp;&nbsp;&nbsp;&nbsp;&nbsp;   Trouser\n",
    "<br>\n",
    "2   &nbsp;&nbsp;&nbsp;&nbsp;&nbsp;&nbsp;&nbsp;   Pullover\n",
    "<br>\n",
    "3   &nbsp;&nbsp;&nbsp;&nbsp;&nbsp;&nbsp;&nbsp;   Dress\n",
    "<br>\n",
    "4   &nbsp;&nbsp;&nbsp;&nbsp;&nbsp;&nbsp;&nbsp;   Coat\n",
    "<br>\n",
    "5   &nbsp;&nbsp;&nbsp;&nbsp;&nbsp;&nbsp;&nbsp;   Sandal\n",
    "<br>\n",
    "6   &nbsp;&nbsp;&nbsp;&nbsp;&nbsp;&nbsp;&nbsp;   Shirt\n",
    "<br>\n",
    "7   &nbsp;&nbsp;&nbsp;&nbsp;&nbsp;&nbsp;&nbsp;   Sneaker\n",
    "<br>\n",
    "8   &nbsp;&nbsp;&nbsp;&nbsp;&nbsp;&nbsp;&nbsp;   Bag\n",
    "<br>\n",
    "9   &nbsp;&nbsp;&nbsp;&nbsp;&nbsp;&nbsp;&nbsp;   Ankle boot\n",
    "<br>\n",
    "\n",
    "Our dataset consists of 60,000 images and each image has 784 features. An image consists of 28x28 pixels, and each pixel is a value from 0 to 255 describing the pixel intensity. 0 for white and 255 for black.\n",
    "\n",
    "Let us have a look at one instance (an article image) of this training dataset train_images.\n",
    "\n",
    "To view a single instance(an article image),all we need to do is grab an instance’s feature vector, reshape it to a 28×28 array, and display it using Matplotlib’s imshow() function."
   ]
  },
  {
   "cell_type": "code",
   "execution_count": 20,
   "metadata": {},
   "outputs": [],
   "source": [
    "# create a label dictionary\n",
    "label_dict = {'0': 'T-shirt/top',\n",
    "              '1': 'Trouser',\n",
    "              '2': 'Pullover',\n",
    "              '3': 'Dress',\n",
    "              '4': 'Coat',\n",
    "              '5': 'Sandal',\n",
    "              '6': 'Shirt',\n",
    "              '7': 'Sneaker',\n",
    "              '8': 'Bag',\n",
    "              '9': 'Ankle boot'}"
   ]
  },
  {
   "cell_type": "code",
   "execution_count": 22,
   "metadata": {},
   "outputs": [
    {
     "name": "stdout",
     "output_type": "stream",
     "text": [
      "Image Label: 9(T-shirt/top)\n"
     ]
    },
    {
     "data": {
      "image/png": "[encoded data removed]",
      "text/plain": [
       "<Figure size 432x288 with 1 Axes>"
      ]
     },
     "metadata": {
      "needs_background": "light"
     },
     "output_type": "display_data"
    }
   ],
   "source": [
    "# view a training image\n",
    "def showImage(data):\n",
    "    some_article = data\n",
    "    some_article_image = some_article.reshape(28, 28) # Reshaping it to get the 28x28 pixels\n",
    "    print(\"Image Label: \" + str(train_labels[img_index]) + \"(\" + label_dict[str(img_index)] + \")\")\n",
    "    plt.imshow(some_article_image, cmap = plt.cm.binary, interpolation=\"nearest\")\n",
    "    plt.axis(\"off\")\n",
    "    plt.show()\n",
    "\n",
    "img_index = 0  \n",
    "showImage(train_images[img_index])"
   ]
  },
  {
   "cell_type": "code",
   "execution_count": 23,
   "metadata": {},
   "outputs": [
    {
     "name": "stdout",
     "output_type": "stream",
     "text": [
      "Image Label: 3(Dress)\n"
     ]
    },
    {
     "data": {
      "image/png": "[encoded data removed]",
      "text/plain": [
       "<Figure size 432x288 with 1 Axes>"
      ]
     },
     "metadata": {
      "needs_background": "light"
     },
     "output_type": "display_data"
    }
   ],
   "source": [
    "img_index = 3 \n",
    "showImage(train_images[img_index])"
   ]
  },
  {
   "cell_type": "markdown",
   "metadata": {},
   "source": [
    "## __Build the model__ \n",
    "\n",
    "Build the model with 3 layers (1 layer to flatten the image to a 28 x 28 = 784 vector, 1 layer with 128 neurons and relu activation function & 1 layer with 10 neurons and the Softmax function). We have 10 neurons because we have 10 labels for the image data set."
   ]
  },
  {
   "cell_type": "code",
   "execution_count": 6,
   "metadata": {},
   "outputs": [],
   "source": [
    "# Build the model\n",
    "# 3 layers, 1 layer to flatten the image to a 28 x 28 = 784 vector\n",
    "#           1 layer with 128 neurons and relu function\n",
    "#           1 layer with 10 neurons and softmax function#Create the neural network model\n",
    "\n",
    "model = keras.Sequential([\n",
    "    keras.layers.Flatten(input_shape=(28,28)),\n",
    "    keras.layers.Dense(128, activation=tf.nn.relu),\n",
    "    keras.layers.Dense(10, activation=tf.nn.softmax)\n",
    "])"
   ]
  },
  {
   "cell_type": "markdown",
   "metadata": {},
   "source": [
    "### __Compile the model__ \n",
    "\n",
    "Compile the model using the loss function sparse_categorical_crossentropywhich is used for classes that are greater than 2, since we will have 9 classes we will use this function. Those classes being the numbers from 0 to 9 for example: 0,1,2,3,…9. I will also add in a metric to show the accuracy of the model. Adam is an optimization algorithm that can used instead of the classical stochastic gradient descent procedure to update network weights on training data.\n",
    "\n",
    "__Optimization Function:__ A function that seeks to minimize a loss function.\n",
    "\n",
    "__Loss Function:__ In mathematical optimization and decision theory, a loss function or cost function is a function that maps an event or values of one or more variables onto a real number intuitively representing some “cost” associated with the event. Essentially it is a method of evaluating how well your algorithm models your data set."
   ]
  },
  {
   "cell_type": "code",
   "execution_count": 9,
   "metadata": {},
   "outputs": [],
   "source": [
    "# Compile the model\n",
    "# The loss function measures how well the model did on training , and then tries to improve on it using the optimizer\n",
    "\n",
    "model.compile(optimizer = 'adam',\n",
    "              loss='sparse_categorical_crossentropy', \n",
    "              metrics = ['accuracy'])"
   ]
  },
  {
   "cell_type": "markdown",
   "metadata": {},
   "source": [
    "### __Train the model__ \n",
    "\n",
    "Train the model using the train_images, and train_labels variables (the variables / data set that contains the training data). I will iterate 30 times over the entire data set to train on, with a number of 32 samples per gradient update for training."
   ]
  },
  {
   "cell_type": "code",
   "execution_count": 11,
   "metadata": {},
   "outputs": [
    {
     "name": "stdout",
     "output_type": "stream",
     "text": [
      "Train on 60000 samples\n",
      "Epoch 1/30\n",
      "60000/60000 [==============================] - 5s 80us/sample - loss: 0.4880 - accuracy: 0.8319\n",
      "Epoch 2/30\n",
      "60000/60000 [==============================] - 5s 80us/sample - loss: 0.4827 - accuracy: 0.8355\n",
      "Epoch 3/30\n",
      "60000/60000 [==============================] - 5s 81us/sample - loss: 0.4762 - accuracy: 0.8365\n",
      "Epoch 4/30\n",
      "60000/60000 [==============================] - 5s 83us/sample - loss: 0.4651 - accuracy: 0.8393\n",
      "Epoch 5/30\n",
      "60000/60000 [==============================] - 5s 83us/sample - loss: 0.4621 - accuracy: 0.8406\n",
      "Epoch 6/30\n",
      "60000/60000 [==============================] - 5s 81us/sample - loss: 0.4589 - accuracy: 0.8424\n",
      "Epoch 7/30\n",
      "60000/60000 [==============================] - 5s 82us/sample - loss: 0.4632 - accuracy: 0.8406\n",
      "Epoch 8/30\n",
      "60000/60000 [==============================] - 5s 86us/sample - loss: 0.4456 - accuracy: 0.8470\n",
      "Epoch 9/30\n",
      "60000/60000 [==============================] - 5s 82us/sample - loss: 0.4413 - accuracy: 0.8479\n",
      "Epoch 10/30\n",
      "60000/60000 [==============================] - 5s 83us/sample - loss: 0.4356 - accuracy: 0.8492\n",
      "Epoch 11/30\n",
      "60000/60000 [==============================] - 5s 85us/sample - loss: 0.4381 - accuracy: 0.8471\n",
      "Epoch 12/30\n",
      "60000/60000 [==============================] - 5s 89us/sample - loss: 0.4389 - accuracy: 0.8481\n",
      "Epoch 13/30\n",
      "60000/60000 [==============================] - 5s 87us/sample - loss: 0.4368 - accuracy: 0.8489\n",
      "Epoch 14/30\n",
      "60000/60000 [==============================] - 5s 86us/sample - loss: 0.4309 - accuracy: 0.8487\n",
      "Epoch 15/30\n",
      "60000/60000 [==============================] - 5s 86us/sample - loss: 0.4346 - accuracy: 0.8500\n",
      "Epoch 16/30\n",
      "60000/60000 [==============================] - 5s 83us/sample - loss: 0.4259 - accuracy: 0.8522\n",
      "Epoch 17/30\n",
      "60000/60000 [==============================] - 5s 82us/sample - loss: 0.4317 - accuracy: 0.8496\n",
      "Epoch 18/30\n",
      "60000/60000 [==============================] - 5s 81us/sample - loss: 0.4286 - accuracy: 0.8504\n",
      "Epoch 19/30\n",
      "60000/60000 [==============================] - 5s 83us/sample - loss: 0.4320 - accuracy: 0.8525\n",
      "Epoch 20/30\n",
      "60000/60000 [==============================] - 5s 85us/sample - loss: 0.4313 - accuracy: 0.8515\n",
      "Epoch 21/30\n",
      "60000/60000 [==============================] - 5s 84us/sample - loss: 0.4309 - accuracy: 0.8527\n",
      "Epoch 22/30\n",
      "60000/60000 [==============================] - 5s 88us/sample - loss: 0.4318 - accuracy: 0.8504\n",
      "Epoch 23/30\n",
      "60000/60000 [==============================] - 5s 84us/sample - loss: 0.4243 - accuracy: 0.8522\n",
      "Epoch 24/30\n",
      "60000/60000 [==============================] - 5s 83us/sample - loss: 0.4280 - accuracy: 0.8520\n",
      "Epoch 25/30\n",
      "60000/60000 [==============================] - 5s 85us/sample - loss: 0.4192 - accuracy: 0.8547\n",
      "Epoch 26/30\n",
      "60000/60000 [==============================] - 5s 85us/sample - loss: 0.4192 - accuracy: 0.8536\n",
      "Epoch 27/30\n",
      "60000/60000 [==============================] - 5s 83us/sample - loss: 0.4142 - accuracy: 0.8552\n",
      "Epoch 28/30\n",
      "60000/60000 [==============================] - 5s 86us/sample - loss: 0.4193 - accuracy: 0.8540\n",
      "Epoch 29/30\n",
      "60000/60000 [==============================] - 5s 83us/sample - loss: 0.4198 - accuracy: 0.8546\n",
      "Epoch 30/30\n",
      "60000/60000 [==============================] - 5s 79us/sample - loss: 0.4106 - accuracy: 0.8564\n"
     ]
    },
    {
     "data": {
      "text/plain": [
       "<tensorflow.python.keras.callbacks.History at 0x7f1000109cf8>"
      ]
     },
     "execution_count": 11,
     "metadata": {},
     "output_type": "execute_result"
    }
   ],
   "source": [
    "#Train the model\n",
    "model.fit(train_images, \n",
    "          train_labels,  #It expects integers because of the sparse_categorical_crossentropy loss function\n",
    "          epochs=30, #number of iterations over the entire dataset to train on\n",
    "          batch_size=32)#number of samples per gradient update for training"
   ]
  },
  {
   "cell_type": "markdown",
   "metadata": {},
   "source": [
    "Now it’s time to __evaluate the model__ to see how well it performs on the testing data set. The model performed well, it is about 85.64% accurate"
   ]
  },
  {
   "cell_type": "code",
   "execution_count": 12,
   "metadata": {},
   "outputs": [
    {
     "name": "stdout",
     "output_type": "stream",
     "text": [
      "10000/10000 [==============================] - 1s 62us/sample - loss: 0.5940 - accuracy: 0.8152\n"
     ]
    },
    {
     "data": {
      "text/plain": [
       "[0.5940272416353226, 0.8152]"
      ]
     },
     "execution_count": 12,
     "metadata": {},
     "output_type": "execute_result"
    }
   ],
   "source": [
    "#Evaluate the model\n",
    "model.evaluate(test_images, test_labels)"
   ]
  },
  {
   "cell_type": "markdown",
   "metadata": {},
   "source": [
    "__Make predictions__ using the model. I will predict the class of the first 5 test images using this model, as well as the actual labels"
   ]
  },
  {
   "cell_type": "code",
   "execution_count": 13,
   "metadata": {},
   "outputs": [
    {
     "name": "stdout",
     "output_type": "stream",
     "text": [
      "[9 2 1 1 6]\n",
      "[9 2 1 1 6]\n"
     ]
    }
   ],
   "source": [
    "#Make a prediction\n",
    "predictions = model.predict(test_images[:5])\n",
    "print(np.argmax(predictions, axis=1)) #Print the predicted labels\n",
    "print(test_labels[:5]) #Print the actual labels"
   ]
  },
  {
   "cell_type": "markdown",
   "metadata": {},
   "source": [
    "Finally I will print the clothes fashion images to the screen. More specifically I will print the first 5 images of the testing data to the screen as a 28 x 28 pixel that is gray."
   ]
  },
  {
   "cell_type": "code",
   "execution_count": 26,
   "metadata": {},
   "outputs": [
    {
     "name": "stdout",
     "output_type": "stream",
     "text": [
      "Image Label: 9(T-shirt/top)\n"
     ]
    },
    {
     "data": {
      "image/png": "[encoded data removed]",
      "text/plain": [
       "<Figure size 432x288 with 1 Axes>"
      ]
     },
     "metadata": {},
     "output_type": "display_data"
    },
    {
     "name": "stdout",
     "output_type": "stream",
     "text": [
      "Image Label: 0(Trouser)\n"
     ]
    },
    {
     "data": {
      "image/png": "[encoded data removed]",
      "text/plain": [
       "<Figure size 432x288 with 1 Axes>"
      ]
     },
     "metadata": {},
     "output_type": "display_data"
    },
    {
     "name": "stdout",
     "output_type": "stream",
     "text": [
      "Image Label: 0(Pullover)\n"
     ]
    },
    {
     "data": {
      "image/png": "[encoded data removed]",
      "text/plain": [
       "<Figure size 432x288 with 1 Axes>"
      ]
     },
     "metadata": {},
     "output_type": "display_data"
    },
    {
     "name": "stdout",
     "output_type": "stream",
     "text": [
      "Image Label: 3(Dress)\n"
     ]
    },
    {
     "data": {
      "image/png": "[encoded data removed]",
      "text/plain": [
       "<Figure size 432x288 with 1 Axes>"
      ]
     },
     "metadata": {},
     "output_type": "display_data"
    },
    {
     "name": "stdout",
     "output_type": "stream",
     "text": [
      "Image Label: 0(Coat)\n"
     ]
    },
    {
     "data": {
      "image/png": "[encoded data removed]",
      "text/plain": [
       "<Figure size 432x288 with 1 Axes>"
      ]
     },
     "metadata": {},
     "output_type": "display_data"
    }
   ],
   "source": [
    "for i in range(0,5):\n",
    "    first_image = test_images[i]\n",
    "    first_image = np.array(first_image, dtype='float')\n",
    "    pixels = first_image.reshape((28, 28))\n",
    "    print(\"Image Label: \" + str(train_labels[i]) + \"(\" + label_dict[str(i)] + \")\")\n",
    "    plt.imshow(pixels, cmap='gray')\n",
    "    plt.xticks([])\n",
    "    plt.yticks([])\n",
    "    plt.show()"
   ]
  },
  {
   "cell_type": "markdown",
   "metadata": {},
   "source": [
    "## I will improve this model by using data agumentation"
   ]
  },
  {
   "cell_type": "code",
   "execution_count": null,
   "metadata": {},
   "outputs": [],
   "source": []
  }
 ],
 "metadata": {
  "kernelspec": {
   "display_name": "Python 3",
   "language": "python",
   "name": "python3"
  },
  "language_info": {
   "codemirror_mode": {
    "name": "ipython",
    "version": 3
   },
   "file_extension": ".py",
   "mimetype": "text/x-python",
   "name": "python",
   "nbconvert_exporter": "python",
   "pygments_lexer": "ipython3",
   "version": "3.6.9"
  }
 },
 "nbformat": 4,
 "nbformat_minor": 4
}
